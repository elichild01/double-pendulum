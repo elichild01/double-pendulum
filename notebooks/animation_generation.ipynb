{
 "cells": [
  {
   "cell_type": "code",
   "execution_count": 5,
   "metadata": {},
   "outputs": [],
   "source": [
    "import json\n",
    "import numpy as np\n",
    "import matplotlib.pyplot as plt\n",
    "from matplotlib import animation\n",
    "from matplotlib.animation import FuncAnimation\n",
    "from scipy.integrate import solve_ivp\n",
    "import torch\n",
    "from torch import nn"
   ]
  },
  {
   "cell_type": "code",
   "execution_count": 2,
   "metadata": {},
   "outputs": [],
   "source": [
    "animation.writer = animation.writers['ffmpeg']"
   ]
  },
  {
   "cell_type": "markdown",
   "metadata": {},
   "source": [
    "## Generate data and animation from scratch"
   ]
  },
  {
   "cell_type": "code",
   "execution_count": 14,
   "metadata": {},
   "outputs": [],
   "source": [
    "# Parameters\n",
    "g = 9.81  # acceleration due to gravity (m/s^2)\n",
    "l1 = 1.0  # length of the first rod (m)\n",
    "l2 = 1.0  # length of the second rod (m)\n",
    "m1 = 1.0  # mass of the first bob (kg)\n",
    "m2 = 1.0  # mass of the second bob (kg)\n",
    "t_final = 20\n",
    "exp_name = 'start_almost_vertical'\n",
    "num_tsteps = 2000\n",
    "\n",
    "# Initial conditions\n",
    "theta1_init = np.pi\n",
    "theta2_init = np.pi + 1e-3\n",
    "z1_init = 0.0            # initial angular velocity of the first pendulum (rad/s)\n",
    "z2_init = 0.0            # initial angular velocity of the second pendulum (rad/s)\n",
    "\n",
    "# Equations of motion\n",
    "def derivatives(t, state):\n",
    "    theta1, z1, theta2, z2 = state\n",
    "    delta = theta2 - theta1\n",
    "\n",
    "    denominator1 = (m1 + m2) * l1 - m2 * l1 * np.cos(delta) ** 2\n",
    "    denominator2 = (l2 / l1) * denominator1\n",
    "\n",
    "    dtheta1_dt = z1\n",
    "    dz1_dt = (\n",
    "        (m2 * l1 * z1 ** 2 * np.sin(delta) * np.cos(delta)\n",
    "         + m2 * g * np.sin(theta2) * np.cos(delta)\n",
    "         + m2 * l2 * z2 ** 2 * np.sin(delta)\n",
    "         - (m1 + m2) * g * np.sin(theta1))\n",
    "        / denominator1\n",
    "    )\n",
    "    dtheta2_dt = z2\n",
    "    dz2_dt = (\n",
    "        (-m2 * l2 * z2 ** 2 * np.sin(delta) * np.cos(delta)\n",
    "         + (m1 + m2) * g * np.sin(theta1) * np.cos(delta)\n",
    "         - (m1 + m2) * l1 * z1 ** 2 * np.sin(delta)\n",
    "         - (m1 + m2) * g * np.sin(theta2))\n",
    "        / denominator2\n",
    "    )\n",
    "\n",
    "    return np.array([dtheta1_dt, dz1_dt, dtheta2_dt, dz2_dt])\n",
    "\n",
    "\n",
    "state_0 = np.array([theta1_init, z1_init, theta2_init, z2_init])\n",
    "t = np.linspace(0, t_final, num_tsteps)  # time array\n",
    "\n",
    "# Solve the system\n",
    "solution = solve_ivp(derivatives, (0, t_final), state_0, t_eval=t)\n",
    "theta1, theta2 = solution.y[0], solution.y[2]\n",
    "\n",
    "# Convert to Cartesian coordinates\n",
    "x1 = l1 * np.sin(theta1)\n",
    "y1 = -l1 * np.cos(theta1)\n",
    "x2 = x1 + l2 * np.sin(theta2)\n",
    "y2 = y1 - l2 * np.cos(theta2)\n",
    "\n",
    "# Animation\n",
    "fig, ax = plt.subplots(figsize=(6, 6))\n",
    "ax.set_xlim(-(l1+l2)*1.1, (l1+l2)*1.1)\n",
    "ax.set_ylim(-(l1+l2)*1.1, (l1+l2)*1.1)\n",
    "ax.set_aspect('equal')\n",
    "line, = ax.plot([], [], 'o-', lw=2, color='blue')\n",
    "\n",
    "def update(frame):\n",
    "    line.set_data([0, x1[frame], x2[frame]], [0, y1[frame], y2[frame]])\n",
    "    return line,\n",
    "\n",
    "ani = FuncAnimation(fig, update, frames=len(t), interval=(t_final / 2), blit=True)\n",
    "ani.save(f'../animations/{exp_name}.mp4')\n",
    "plt.close(fig)"
   ]
  },
  {
   "cell_type": "markdown",
   "metadata": {},
   "source": [
    "<video src='../animations/start_almost_vertical.mp4' controls>"
   ]
  },
  {
   "cell_type": "markdown",
   "metadata": {},
   "source": [
    "## Pull data from generated dataset and animate"
   ]
  },
  {
   "cell_type": "code",
   "execution_count": 11,
   "metadata": {},
   "outputs": [],
   "source": [
    "# Set animation parameters\n",
    "row_of_dataset = 500\n",
    "dataset_name = 'simulations-zero_initial_velocity-equal_mass-equal_length'\n",
    "\n",
    "# Load and parse data\n",
    "with open(f'../data/{dataset_name}.json', 'r') as f:\n",
    "    data = json.load(f)\n",
    "solution = data[row_of_dataset]\n",
    "theta1, theta2 = solution['theta1'], solution['theta2']\n",
    "num_tsteps, t_final = solution['num_tsteps'], solution['t_final']\n",
    "l1, l2, m1, m2 = solution['length1'], solution['length2'], solution['mass1'], solution['mass2']\n",
    "\n",
    "# Convert to Cartesian coordinates\n",
    "x1 = l1 * np.sin(theta1)\n",
    "y1 = -l1 * np.cos(theta1)\n",
    "x2 = x1 + l2 * np.sin(theta2)\n",
    "y2 = y1 - l2 * np.cos(theta2)\n",
    "\n",
    "# Animation\n",
    "fig, ax = plt.subplots(figsize=(6, 6))\n",
    "ax.set_xlim(-(l1+l2)*1.1, (l1+l2)*1.1)\n",
    "ax.set_ylim(-(l1+l2)*1.1, (l1+l2)*1.1)\n",
    "ax.set_aspect('equal')\n",
    "line, = ax.plot([], [], 'o-', lw=2, color='blue')\n",
    "\n",
    "def update(frame):\n",
    "    line.set_data([0, x1[frame], x2[frame]], [0, y1[frame], y2[frame]])\n",
    "    return line,\n",
    "\n",
    "ani = FuncAnimation(fig, update, frames=len(t), interval=(t_final / num_tsteps * 1000), blit=True)\n",
    "ani.save(f'../animations/{dataset_name}.mp4')\n",
    "plt.close(fig)"
   ]
  },
  {
   "cell_type": "markdown",
   "metadata": {},
   "source": [
    "<video src='../animations/test_access.mp4' controls>"
   ]
  },
  {
   "cell_type": "markdown",
   "metadata": {},
   "source": [
    "## Generate data from pretrained model and animate"
   ]
  },
  {
   "cell_type": "code",
   "execution_count": 6,
   "metadata": {},
   "outputs": [],
   "source": [
    "class FeedForward(nn.Module):\n",
    "    #So bog basic it should tap for black mana\n",
    "    #DT That one's for you\n",
    "    def __init__(self):\n",
    "        super().__init__()\n",
    "        self.linear1 = nn.Linear(8, 30)\n",
    "        self.linear2 = nn.Linear(30,30)\n",
    "        self.linear3 = nn.Linear(30,30)\n",
    "        self.linear4 = nn.Linear(30,8)\n",
    "        self.relu = nn.ReLU()\n",
    "    def forward(self, x):\n",
    "        x = self.relu(self.linear1(x))\n",
    "        x = self.relu(self.linear2(x))\n",
    "        x = self.relu(self.linear3(x))\n",
    "        x = self.linear4(x)\n",
    "        x = torch.clamp(x, -1e6, 1e6)\n",
    "        return x"
   ]
  },
  {
   "cell_type": "code",
   "execution_count": 28,
   "metadata": {},
   "outputs": [],
   "source": [
    "# Set parameters\n",
    "model_name = 'after_240_epochs'\n",
    "l1, l2 = 1, 1\n",
    "m1, m2 = 1, 1\n",
    "theta1_init, theta2_init = float(np.random.randn()), float(np.random.randn())\n",
    "z1_init, z2_init = 0, 0\n",
    "timestep = 10/1999 # don't change unless the dataset changes\n",
    "total_time = 10\n",
    "\n",
    "# Calculate other parameters\n",
    "num_tsteps = int(total_time / timestep)\n",
    "\n",
    "# Load model\n",
    "model = FeedForward()\n",
    "model = torch.load(f'../models/{model_name}.torch', weights_only=False)\n",
    "model.eval()\n",
    "\n",
    "# Generate data using model\n",
    "init_state = torch.tensor([l1, l2, m1, m2, theta1_init, z1_init, theta2_init, z2_init])\n",
    "solution = [init_state]\n",
    "with torch.no_grad():\n",
    "    for _ in range(int(total_time/timestep)):\n",
    "        solution.append(model(solution[-1]))\n",
    "\n",
    "theta1 = [sol[4] for sol in solution]\n",
    "theta2 = [sol[6] for sol in solution]\n",
    "\n",
    "# Convert to Cartesian coordinates\n",
    "x1 = l1 * np.sin(theta1)\n",
    "y1 = -l1 * np.cos(theta1)\n",
    "x2 = x1 + l2 * np.sin(theta2)\n",
    "y2 = y1 - l2 * np.cos(theta2)\n",
    "\n",
    "# Animation\n",
    "fig, ax = plt.subplots(figsize=(6, 6))\n",
    "ax.set_xlim(-(l1+l2)*1.1, (l1+l2)*1.1)\n",
    "ax.set_ylim(-(l1+l2)*1.1, (l1+l2)*1.1)\n",
    "ax.set_aspect('equal')\n",
    "line, = ax.plot([], [], 'o-', lw=2, color='blue')\n",
    "\n",
    "def update(frame):\n",
    "    line.set_data([0, x1[frame], x2[frame]], [0, y1[frame], y2[frame]])\n",
    "    return line,\n",
    "\n",
    "ani = FuncAnimation(fig, update, frames=num_tsteps+1, interval=(total_time / num_tsteps * 1000), blit=True)\n",
    "ani.save(f'../animations/{model_name}.mp4')\n",
    "plt.close(fig)"
   ]
  },
  {
   "cell_type": "markdown",
   "metadata": {},
   "source": [
    "<video src='../animations/after_240_epochs.mp4' controls>"
   ]
  }
 ],
 "metadata": {
  "kernelspec": {
   "display_name": "Python 3",
   "language": "python",
   "name": "python3"
  },
  "language_info": {
   "codemirror_mode": {
    "name": "ipython",
    "version": 3
   },
   "file_extension": ".py",
   "mimetype": "text/x-python",
   "name": "python",
   "nbconvert_exporter": "python",
   "pygments_lexer": "ipython3",
   "version": "3.12.1"
  }
 },
 "nbformat": 4,
 "nbformat_minor": 2
}
