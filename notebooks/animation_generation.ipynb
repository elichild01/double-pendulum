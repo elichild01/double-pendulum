{
 "cells": [
  {
   "cell_type": "code",
   "execution_count": 16,
   "metadata": {},
   "outputs": [],
   "source": [
    "import numpy as np\n",
    "import matplotlib.pyplot as plt\n",
    "from matplotlib import animation\n",
    "from matplotlib.animation import FuncAnimation\n",
    "from scipy.integrate import solve_ivp"
   ]
  },
  {
   "cell_type": "code",
   "execution_count": 17,
   "metadata": {},
   "outputs": [],
   "source": [
    "animation.writer = animation.writers['ffmpeg']"
   ]
  },
  {
   "cell_type": "code",
   "execution_count": 38,
   "metadata": {},
   "outputs": [],
   "source": [
    "# Parameters\n",
    "g = 9.81  # acceleration due to gravity (m/s^2)\n",
    "L1 = 1.0  # length of the first rod (m)\n",
    "L2 = 1.0  # length of the second rod (m)\n",
    "m1 = 1.0  # mass of the first bob (kg)\n",
    "m2 = 1.0  # mass of the second bob (kg)\n",
    "t_final = 20\n",
    "exp_name = 'start_half_vertical'\n",
    "\n",
    "# Initial conditions\n",
    "theta1_init = np.pi\n",
    "theta2_init = 0\n",
    "z1_init = 0.0            # initial angular velocity of the first pendulum (rad/s)\n",
    "z2_init = 0.0            # initial angular velocity of the second pendulum (rad/s)\n",
    "\n",
    "# Equations of motion\n",
    "def derivatives(t, state):\n",
    "    theta1, z1, theta2, z2 = state\n",
    "    delta = theta2 - theta1\n",
    "\n",
    "    denominator1 = (m1 + m2) * L1 - m2 * L1 * np.cos(delta) ** 2\n",
    "    denominator2 = (L2 / L1) * denominator1\n",
    "\n",
    "    dtheta1_dt = z1\n",
    "    dz1_dt = (\n",
    "        (m2 * L1 * z1 ** 2 * np.sin(delta) * np.cos(delta)\n",
    "         + m2 * g * np.sin(theta2) * np.cos(delta)\n",
    "         + m2 * L2 * z2 ** 2 * np.sin(delta)\n",
    "         - (m1 + m2) * g * np.sin(theta1))\n",
    "        / denominator1\n",
    "    )\n",
    "    dtheta2_dt = z2\n",
    "    dz2_dt = (\n",
    "        (-m2 * L2 * z2 ** 2 * np.sin(delta) * np.cos(delta)\n",
    "         + (m1 + m2) * g * np.sin(theta1) * np.cos(delta)\n",
    "         - (m1 + m2) * L1 * z1 ** 2 * np.sin(delta)\n",
    "         - (m1 + m2) * g * np.sin(theta2))\n",
    "        / denominator2\n",
    "    )\n",
    "\n",
    "    return np.array([dtheta1_dt, dz1_dt, dtheta2_dt, dz2_dt])\n",
    "\n",
    "\n",
    "state_0 = np.array([theta1_init, z1_init, theta2_init, z2_init])\n",
    "t = np.linspace(0, t_final, 2000)  # time array\n",
    "\n",
    "# Solve the system\n",
    "solution = solve_ivp(derivatives, (0, t_final), state_0, t_eval=t)\n",
    "theta1, theta2 = solution.y[0], solution.y[2]\n",
    "\n",
    "# Convert to Cartesian coordinates\n",
    "x1 = L1 * np.sin(theta1)\n",
    "y1 = -L1 * np.cos(theta1)\n",
    "x2 = x1 + L2 * np.sin(theta2)\n",
    "y2 = y1 - L2 * np.cos(theta2)\n",
    "\n",
    "# Animation\n",
    "fig, ax = plt.subplots(figsize=(6, 6))\n",
    "ax.set_xlim(-(L1+L2)*1.1, (L1+L2)*1.1)\n",
    "ax.set_ylim(-(L1+L2)*1.1, (L1+L2)*1.1)\n",
    "ax.set_aspect('equal')\n",
    "line, = ax.plot([], [], 'o-', lw=2, color='blue')\n",
    "\n",
    "def update(frame):\n",
    "    line.set_data([0, x1[frame], x2[frame]], [0, y1[frame], y2[frame]])\n",
    "    return line,\n",
    "\n",
    "ani = FuncAnimation(fig, update, frames=len(t), interval=(t_final / 2), blit=True)\n",
    "ani.save(f'../animations/{exp_name}.mp4')\n",
    "plt.close(fig)"
   ]
  },
  {
   "cell_type": "markdown",
   "metadata": {},
   "source": [
    "<video src='../animations/start_half_vertical.mp4' controls>"
   ]
  }
 ],
 "metadata": {
  "kernelspec": {
   "display_name": "Python 3",
   "language": "python",
   "name": "python3"
  },
  "language_info": {
   "codemirror_mode": {
    "name": "ipython",
    "version": 3
   },
   "file_extension": ".py",
   "mimetype": "text/x-python",
   "name": "python",
   "nbconvert_exporter": "python",
   "pygments_lexer": "ipython3",
   "version": "3.12.1"
  }
 },
 "nbformat": 4,
 "nbformat_minor": 2
}
