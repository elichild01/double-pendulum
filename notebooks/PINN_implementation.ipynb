{
 "cells": [
  {
   "cell_type": "code",
   "execution_count": 196,
   "metadata": {},
   "outputs": [],
   "source": [
    "import json\n",
    "import matplotlib.pyplot as plt\n",
    "import numpy as np\n",
    "import pdb\n",
    "import torch\n",
    "from torch import nn\n",
    "import torch.utils.data as data\n",
    "from tqdm import tqdm"
   ]
  },
  {
   "cell_type": "code",
   "execution_count": 5,
   "metadata": {},
   "outputs": [],
   "source": [
    "#With heavy help from https://github.com/benmoseley/harmonic-oscillator-pinn-workshop/blob/main/PINN_intro_workshop.ipynb"
   ]
  },
  {
   "cell_type": "code",
   "execution_count": 197,
   "metadata": {},
   "outputs": [],
   "source": [
    "class FeedForward(nn.Module):\n",
    "    #So bog basic it should tap for black mana\n",
    "    #DT That one's for you\n",
    "    def __init__(self):\n",
    "        super().__init__()\n",
    "        self.linear1 = nn.Linear(4, 30)\n",
    "        self.linear2 = nn.Linear(30,30)\n",
    "        self.linear3 = nn.Linear(30,30)\n",
    "        self.linear4 = nn.Linear(30,4)\n",
    "        self.relu = nn.ReLU()\n",
    "    def forward(self, x):\n",
    "        x = self.relu(self.linear1(x))\n",
    "        x = self.relu(self.linear2(x))\n",
    "        x = self.relu(self.linear3(x))\n",
    "        x = self.linear4(x)\n",
    "        x = torch.clamp(x, -1e6, 1e6)\n",
    "        return x"
   ]
  },
  {
   "cell_type": "code",
   "execution_count": 198,
   "metadata": {},
   "outputs": [],
   "source": [
    "g = 9.81\n",
    "def derivatives(t, state):\n",
    "    m1, m2, L1, L2 = 1,1,1,1\n",
    "    if torch.nan in state: pdb.set_trace()\n",
    "    if torch.inf in state or -torch.inf in state: pdb.set_trace()\n",
    "    theta1, theta2, z1, z2 = torch.split(state, 1, dim=1)\n",
    "    # print(theta1, theta2, z1, z2)\n",
    "    delta = theta2 - theta1\n",
    "    if torch.nan in delta: pdb.set_trace()\n",
    "    if torch.inf in delta or -torch.inf in delta: pdb.set_trace()\n",
    "\n",
    "    denominator1 = (m1 + m2) * L1 - m2 * L1 * np.cos(delta) ** 2\n",
    "    denominator2 = (L2 / L1) * denominator1\n",
    "\n",
    "    dtheta1_dt = z1\n",
    "    dz1_dt = (\n",
    "        (m2 * L1 * z1 ** 2 * np.sin(delta) * np.cos(delta)\n",
    "         + m2 * g * np.sin(theta2) * np.cos(delta)\n",
    "         + m2 * L2 * z2 ** 2 * np.sin(delta)\n",
    "         - (m1 + m2) * g * np.sin(theta1))\n",
    "        / denominator1\n",
    "    )\n",
    "    if torch.nan in dz1_dt: pdb.set_trace()\n",
    "    dtheta2_dt = z2\n",
    "    dz2_dt = (\n",
    "        (-m2 * L2 * z2 ** 2 * np.sin(delta) * np.cos(delta)\n",
    "         + (m1 + m2) * g * np.sin(theta1) * np.cos(delta)\n",
    "         - (m1 + m2) * L1 * z1 ** 2 * np.sin(delta)\n",
    "         - (m1 + m2) * g * np.sin(theta2))\n",
    "        / denominator2\n",
    "    )\n",
    "\n",
    "    return np.column_stack([dtheta1_dt, dz1_dt, dtheta2_dt, dz2_dt])"
   ]
  },
  {
   "cell_type": "code",
   "execution_count": 199,
   "metadata": {},
   "outputs": [],
   "source": [
    "def rk4_derivs(state, f, h):\n",
    "    t = 0\n",
    "    k1 = f(t, state)\n",
    "    # print(state.shape)\n",
    "    # print(k1.shape)\n",
    "    k2 = f(t + h*0.5, state + k1*h*0.5)\n",
    "    k3 = f(t + h*0.5, state + k2*h*0.5)\n",
    "    k4 = f(t + h, state + k3*h)\n",
    "    return (k1 + 2*k2 + 2*k3 + k4) / 6\n",
    "\n",
    "class PINNLoss(nn.Module):\n",
    "    def __init__(self, tstep, lamb=.5):\n",
    "        super().__init__()\n",
    "        self.tstep = tstep\n",
    "        self.lamb = lamb\n",
    "        self.data_crit = nn.MSELoss()\n",
    "        self.physics_crit = nn.MSELoss()\n",
    "\n",
    "    def forward(self, y_pred, y_true, input_data):\n",
    "        data_loss = self.data_crit(y_pred, y_true)\n",
    "        \n",
    "        empirical_derivs = (y_pred - input_data) / self.tstep\n",
    "        true_derivs = torch.tensor(rk4_derivs(input_data, derivatives, self.tstep))\n",
    "        physics_loss = self.physics_crit(empirical_derivs, true_derivs)\n",
    "\n",
    "        return self.lamb * data_loss + (1-self.lamb) * physics_loss"
   ]
  },
  {
   "cell_type": "code",
   "execution_count": 201,
   "metadata": {},
   "outputs": [
    {
     "name": "stderr",
     "output_type": "stream",
     "text": [
      "100%|██████████| 250/250 [00:35<00:00,  7.06it/s]\n"
     ]
    }
   ],
   "source": [
    "timestep = 1/200\n",
    "pinn = FeedForward()\n",
    "optimizer = torch.optim.Adam(pinn.parameters(), lr=1e-4)\n",
    "lamb = 0.5 #Test different values for this?\n",
    "criterion = PINNLoss(timestep, lamb=lamb)\n",
    "num_epochs = 50000\n",
    "val_every = 2500\n",
    "save_every = 10000\n",
    "train_losses = []\n",
    "val_losses = []\n",
    "epoch_size = int(2**15)\n",
    "val_set_size = int(2**13)\n",
    "for i in tqdm(range(num_epochs)):\n",
    "    #generate some new training data\n",
    "    #Now with all-equal lengths and masses\n",
    "    X = np.empty((epoch_size,4))\n",
    "    X[:,:2] = np.random.uniform(-np.pi, np.pi, size=(epoch_size,2))\n",
    "    X[:,2:] = np.random.normal(size=(epoch_size,2))\n",
    "    X_batch = torch.tensor(X)\n",
    "    y_batch = X_batch+rk4_derivs(X_batch, derivatives, timestep)*timestep\n",
    "\n",
    "    train_losses_local = []\n",
    "    # for X_batch, y_batch in train_loader:\n",
    "    # if torch.inf in X_batch or -torch.inf in y_batch:\n",
    "    #     print('Found inf in data!')\n",
    "    #     pdb.set_trace()\n",
    "    X_batch, y_batch = X_batch.to(torch.float), y_batch.to(torch.float)\n",
    "    optimizer.zero_grad()\n",
    "    y_pred = pinn(X_batch)\n",
    "    # empirical_derivs = (output_vector - input_data) / timestep\n",
    "    # physics_loss = (derivs - derivatives(input_data))**2 #Divide by N elns?\n",
    "    # data_loss = lamb*(true_output - output_vector)**2\n",
    "    # loss = physics_loss + data_loss\n",
    "    loss = criterion(y_pred, y_batch, X_batch)\n",
    "    loss.backward()\n",
    "    train_losses_local.append(loss.item())\n",
    "    optimizer.step()\n",
    "    train_losses.append(np.mean(train_losses_local))\n",
    "\n",
    "    if (i+1) % val_every == 0:\n",
    "        X = np.empty((val_set_size,4))\n",
    "        X[:,:2] = np.random.uniform(-np.pi, np.pi, size=(val_set_size,2))\n",
    "        X[:,2:] = np.random.normal(size=(val_set_size,2))\n",
    "        X_batch = torch.tensor(X)\n",
    "        y_batch = X_batch+rk4_derivs(X_batch, derivatives, timestep)*timestep\n",
    "        pinn.eval()\n",
    "        val_losses_local = []\n",
    "        X_batch, y_batch = X_batch.to(torch.float), y_batch.to(torch.float)\n",
    "        optimizer.zero_grad()\n",
    "        y_pred = pinn(X_batch)\n",
    "        loss = criterion(y_pred, y_batch, X_batch)\n",
    "        val_losses_local.append(loss.item())\n",
    "        val_losses.append(np.mean(val_losses_local))\n",
    "        pinn.train()\n",
    "    #pinn() is supposed to approximate, as a function, the next timestep given the state of a system, and training data with consistent timesteps\n",
    "    if not (i+1) % save_every:\n",
    "        with open(f'../models/shuffled_4dout_online_{i+1}_epochs_statedict.torch', 'wb') as file:\n",
    "            torch.save(pinn.state_dict(), file)"
   ]
  },
  {
   "cell_type": "code",
   "execution_count": 193,
   "metadata": {},
   "outputs": [
    {
     "data": {
      "text/plain": [
       "[<matplotlib.lines.Line2D at 0x251088d8dc0>]"
      ]
     },
     "execution_count": 193,
     "metadata": {},
     "output_type": "execute_result"
    },
    {
     "data": {
      "image/png": "[encoded data removed]",
      "text/plain": [
       "<Figure size 640x480 with 1 Axes>"
      ]
     },
     "metadata": {},
     "output_type": "display_data"
    }
   ],
   "source": [
    "plt.plot(val_losses)"
   ]
  },
  {
   "cell_type": "code",
   "execution_count": null,
   "metadata": {},
   "outputs": [],
   "source": [
    "num_epochs = 50000\n",
    "save_every = 10000\n",
    "for i in tqdm(range(num_epochs)):\n",
    "    #generate some new training data\n",
    "    #Now with all-equal lengths and masses\n",
    "    X = np.empty((epoch_size,4))\n",
    "    X[:,:2] = np.random.uniform(-np.pi, np.pi, size=(epoch_size,2))\n",
    "    X[:,2:] = np.random.normal(size=(epoch_size,2))\n",
    "    X_batch = torch.tensor(X)\n",
    "    y_batch = X_batch+rk4_derivs(X_batch, derivatives, timestep)*timestep\n",
    "\n",
    "    train_losses_local = []\n",
    "    X_batch, y_batch = X_batch.to(torch.float), y_batch.to(torch.float)\n",
    "    optimizer.zero_grad()\n",
    "    y_pred = pinn(X_batch)\n",
    "\n",
    "    loss = criterion(y_pred, y_batch, X_batch)\n",
    "    loss.backward()\n",
    "    train_losses_local.append(loss.item())\n",
    "    optimizer.step()\n",
    "    train_losses.append(np.mean(train_losses_local))\n",
    "\n",
    "    if (i+1) % val_every == 0:\n",
    "        X = np.empty((val_set_size,4))\n",
    "        X[:,:2] = np.random.uniform(-np.pi, np.pi, size=(val_set_size,2))\n",
    "        X[:,2:] = np.random.normal(size=(val_set_size,2))\n",
    "        X_batch = torch.tensor(X)\n",
    "        y_batch = X_batch+rk4_derivs(X_batch, derivatives, timestep)*timestep\n",
    "        pinn.eval()\n",
    "        val_losses_local = []\n",
    "        X_batch, y_batch = X_batch.to(torch.float), y_batch.to(torch.float)\n",
    "        optimizer.zero_grad()\n",
    "        y_pred = pinn(X_batch)\n",
    "        loss = criterion(y_pred, y_batch, X_batch)\n",
    "        val_losses_local.append(loss.item())\n",
    "        val_losses.append(np.mean(val_losses_local))\n",
    "        pinn.train()\n",
    "    #pinn() is supposed to approximate, as a function, the next timestep given the state of a system, and training data with consistent timesteps\n",
    "    if not (i+1) % save_every:\n",
    "        with open(f'shuffled_4dout_online_{i+50001}_epochs_statedict.torch', 'wb') as file: #TODO TODO CHANGE THIS!\n",
    "            torch.save(pinn.state_dict(), file)"
   ]
  },
  {
   "cell_type": "code",
   "execution_count": null,
   "metadata": {},
   "outputs": [],
   "source": []
  }
 ],
 "metadata": {
  "kernelspec": {
   "display_name": "Python 3",
   "language": "python",
   "name": "python3"
  },
  "language_info": {
   "codemirror_mode": {
    "name": "ipython",
    "version": 3
   },
   "file_extension": ".py",
   "mimetype": "text/x-python",
   "name": "python",
   "nbconvert_exporter": "python",
   "pygments_lexer": "ipython3",
   "version": "3.12.1"
  }
 },
 "nbformat": 4,
 "nbformat_minor": 2
}
