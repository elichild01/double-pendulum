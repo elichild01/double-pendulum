{
 "cells": [
  {
   "cell_type": "code",
   "execution_count": 3,
   "metadata": {},
   "outputs": [],
   "source": [
    "import json\n",
    "import matplotlib.pyplot as plt\n",
    "import numpy as np\n",
    "import pdb\n",
    "import torch\n",
    "from torch import nn\n",
    "import torch.utils.data as data\n",
    "from tqdm import tqdm"
   ]
  },
  {
   "cell_type": "code",
   "execution_count": 5,
   "metadata": {},
   "outputs": [],
   "source": [
    "#With heavy help from https://github.com/benmoseley/harmonic-oscillator-pinn-workshop/blob/main/PINN_intro_workshop.ipynb"
   ]
  },
  {
   "cell_type": "code",
   "execution_count": 4,
   "metadata": {},
   "outputs": [],
   "source": [
    "class FeedForward(nn.Module):\n",
    "    #So bog basic it should tap for black mana\n",
    "    #DT That one's for you\n",
    "    def __init__(self):\n",
    "        super().__init__()\n",
    "        self.linear1 = nn.Linear(4, 30)\n",
    "        self.linear2 = nn.Linear(30,30)\n",
    "        self.linear3 = nn.Linear(30,30)\n",
    "        self.linear4 = nn.Linear(30,4)\n",
    "        self.relu = nn.ReLU()\n",
    "    def forward(self, x):\n",
    "        x = self.relu(self.linear1(x))\n",
    "        x = self.relu(self.linear2(x))\n",
    "        x = self.relu(self.linear3(x))\n",
    "        x = self.linear4(x)\n",
    "        x = torch.clamp(x, -1e6, 1e6)\n",
    "        return x"
   ]
  },
  {
   "cell_type": "code",
   "execution_count": 5,
   "metadata": {},
   "outputs": [],
   "source": [
    "g = 9.81\n",
    "def derivatives(t, state):\n",
    "    m1, m2, L1, L2 = 1,1,1,1\n",
    "    if torch.nan in state:\n",
    "        raise ValueError()\n",
    "    if torch.inf in state or -torch.inf in state:\n",
    "        raise ValueError()\n",
    "    theta1, theta2, z1, z2 = torch.split(state, 1, dim=1)\n",
    "    # print(theta1, theta2, z1, z2)\n",
    "    delta = theta2 - theta1\n",
    "    if torch.nan in delta:\n",
    "        raise ValueError()\n",
    "    if torch.inf in delta or -torch.inf in delta:\n",
    "        raise ValueError()\n",
    "\n",
    "    denominator1 = (m1 + m2) * L1 - m2 * L1 * np.cos(delta) ** 2\n",
    "    denominator2 = (L2 / L1) * denominator1\n",
    "\n",
    "    dtheta1_dt = z1\n",
    "    dz1_dt = (\n",
    "        (m2 * L1 * z1 ** 2 * np.sin(delta) * np.cos(delta)\n",
    "         + m2 * g * np.sin(theta2) * np.cos(delta)\n",
    "         + m2 * L2 * z2 ** 2 * np.sin(delta)\n",
    "         - (m1 + m2) * g * np.sin(theta1))\n",
    "        / denominator1\n",
    "    )\n",
    "    if torch.nan in dz1_dt:\n",
    "        raise ValueError()\n",
    "    dtheta2_dt = z2\n",
    "    dz2_dt = (\n",
    "        (-m2 * L2 * z2 ** 2 * np.sin(delta) * np.cos(delta)\n",
    "         + (m1 + m2) * g * np.sin(theta1) * np.cos(delta)\n",
    "         - (m1 + m2) * L1 * z1 ** 2 * np.sin(delta)\n",
    "         - (m1 + m2) * g * np.sin(theta2))\n",
    "        / denominator2\n",
    "    )\n",
    "\n",
    "    return np.column_stack([dtheta1_dt, dz1_dt, dtheta2_dt, dz2_dt])"
   ]
  },
  {
   "cell_type": "code",
   "execution_count": 6,
   "metadata": {},
   "outputs": [],
   "source": [
    "def rk4_derivs(state, f, h):\n",
    "    t = 0\n",
    "    k1 = f(t, state)\n",
    "    # print(state.shape)\n",
    "    # print(k1.shape)\n",
    "    k2 = f(t + h*0.5, state + k1*h*0.5)\n",
    "    k3 = f(t + h*0.5, state + k2*h*0.5)\n",
    "    k4 = f(t + h, state + k3*h)\n",
    "    return (k1 + 2*k2 + 2*k3 + k4) / 6\n",
    "\n",
    "class PINNLoss(nn.Module):\n",
    "    def __init__(self, tstep, lamb=.5):\n",
    "        super().__init__()\n",
    "        self.tstep = tstep\n",
    "        self.lamb = lamb\n",
    "        self.data_crit = nn.MSELoss()\n",
    "        self.physics_crit = nn.MSELoss()\n",
    "\n",
    "    def forward(self, y_pred, y_true, input_data):\n",
    "        data_loss = self.data_crit(y_pred, y_true)\n",
    "        \n",
    "        empirical_derivs = (y_pred - input_data) / self.tstep\n",
    "        true_derivs = torch.tensor(rk4_derivs(input_data, derivatives, self.tstep))\n",
    "        physics_loss = self.physics_crit(empirical_derivs, true_derivs)\n",
    "\n",
    "        return self.lamb * data_loss + (1-self.lamb) * physics_loss"
   ]
  },
  {
   "cell_type": "code",
   "execution_count": 7,
   "metadata": {},
   "outputs": [
    {
     "name": "stderr",
     "output_type": "stream",
     "text": [
      "  0%|          | 58/50000 [00:03<49:31, 16.81it/s]\n"
     ]
    },
    {
     "ename": "KeyboardInterrupt",
     "evalue": "",
     "output_type": "error",
     "traceback": [
      "\u001b[1;31m---------------------------------------------------------------------------\u001b[0m",
      "\u001b[1;31mKeyboardInterrupt\u001b[0m                         Traceback (most recent call last)",
      "Cell \u001b[1;32mIn [7], line 20\u001b[0m\n\u001b[0;32m     18\u001b[0m X[:,\u001b[38;5;241m2\u001b[39m:] \u001b[38;5;241m=\u001b[39m np\u001b[38;5;241m.\u001b[39mrandom\u001b[38;5;241m.\u001b[39mnormal(size\u001b[38;5;241m=\u001b[39m(epoch_size,\u001b[38;5;241m2\u001b[39m))\n\u001b[0;32m     19\u001b[0m X_batch \u001b[38;5;241m=\u001b[39m torch\u001b[38;5;241m.\u001b[39mtensor(X)\n\u001b[1;32m---> 20\u001b[0m y_batch \u001b[38;5;241m=\u001b[39m X_batch\u001b[38;5;241m+\u001b[39m\u001b[43mrk4_derivs\u001b[49m\u001b[43m(\u001b[49m\u001b[43mX_batch\u001b[49m\u001b[43m,\u001b[49m\u001b[43m \u001b[49m\u001b[43mderivatives\u001b[49m\u001b[43m,\u001b[49m\u001b[43m \u001b[49m\u001b[43mtimestep\u001b[49m\u001b[43m)\u001b[49m\u001b[38;5;241m*\u001b[39mtimestep\n\u001b[0;32m     22\u001b[0m train_losses_local \u001b[38;5;241m=\u001b[39m []\n\u001b[0;32m     23\u001b[0m \u001b[38;5;66;03m# for X_batch, y_batch in train_loader:\u001b[39;00m\n\u001b[0;32m     24\u001b[0m \u001b[38;5;66;03m# if torch.inf in X_batch or -torch.inf in y_batch:\u001b[39;00m\n\u001b[0;32m     25\u001b[0m \u001b[38;5;66;03m#     print('Found inf in data!')\u001b[39;00m\n\u001b[0;32m     26\u001b[0m \u001b[38;5;66;03m#     pdb.set_trace()\u001b[39;00m\n",
      "Cell \u001b[1;32mIn [6], line 7\u001b[0m, in \u001b[0;36mrk4_derivs\u001b[1;34m(state, f, h)\u001b[0m\n\u001b[0;32m      4\u001b[0m \u001b[38;5;66;03m# print(state.shape)\u001b[39;00m\n\u001b[0;32m      5\u001b[0m \u001b[38;5;66;03m# print(k1.shape)\u001b[39;00m\n\u001b[0;32m      6\u001b[0m k2 \u001b[38;5;241m=\u001b[39m f(t \u001b[38;5;241m+\u001b[39m h\u001b[38;5;241m*\u001b[39m\u001b[38;5;241m0.5\u001b[39m, state \u001b[38;5;241m+\u001b[39m k1\u001b[38;5;241m*\u001b[39mh\u001b[38;5;241m*\u001b[39m\u001b[38;5;241m0.5\u001b[39m)\n\u001b[1;32m----> 7\u001b[0m k3 \u001b[38;5;241m=\u001b[39m \u001b[43mf\u001b[49m\u001b[43m(\u001b[49m\u001b[43mt\u001b[49m\u001b[43m \u001b[49m\u001b[38;5;241;43m+\u001b[39;49m\u001b[43m \u001b[49m\u001b[43mh\u001b[49m\u001b[38;5;241;43m*\u001b[39;49m\u001b[38;5;241;43m0.5\u001b[39;49m\u001b[43m,\u001b[49m\u001b[43m \u001b[49m\u001b[43mstate\u001b[49m\u001b[43m \u001b[49m\u001b[38;5;241;43m+\u001b[39;49m\u001b[43m \u001b[49m\u001b[43mk2\u001b[49m\u001b[38;5;241;43m*\u001b[39;49m\u001b[43mh\u001b[49m\u001b[38;5;241;43m*\u001b[39;49m\u001b[38;5;241;43m0.5\u001b[39;49m\u001b[43m)\u001b[49m\n\u001b[0;32m      8\u001b[0m k4 \u001b[38;5;241m=\u001b[39m f(t \u001b[38;5;241m+\u001b[39m h, state \u001b[38;5;241m+\u001b[39m k3\u001b[38;5;241m*\u001b[39mh)\n\u001b[0;32m      9\u001b[0m \u001b[38;5;28;01mreturn\u001b[39;00m (k1 \u001b[38;5;241m+\u001b[39m \u001b[38;5;241m2\u001b[39m\u001b[38;5;241m*\u001b[39mk2 \u001b[38;5;241m+\u001b[39m \u001b[38;5;241m2\u001b[39m\u001b[38;5;241m*\u001b[39mk3 \u001b[38;5;241m+\u001b[39m k4) \u001b[38;5;241m/\u001b[39m \u001b[38;5;241m6\u001b[39m\n",
      "Cell \u001b[1;32mIn [5], line 32\u001b[0m, in \u001b[0;36mderivatives\u001b[1;34m(t, state)\u001b[0m\n\u001b[0;32m     28\u001b[0m     \u001b[38;5;28;01mraise\u001b[39;00m \u001b[38;5;167;01mValueError\u001b[39;00m()\n\u001b[0;32m     29\u001b[0m dtheta2_dt \u001b[38;5;241m=\u001b[39m z2\n\u001b[0;32m     30\u001b[0m dz2_dt \u001b[38;5;241m=\u001b[39m (\n\u001b[0;32m     31\u001b[0m     (\u001b[38;5;241m-\u001b[39mm2 \u001b[38;5;241m*\u001b[39m L2 \u001b[38;5;241m*\u001b[39m z2 \u001b[38;5;241m*\u001b[39m\u001b[38;5;241m*\u001b[39m \u001b[38;5;241m2\u001b[39m \u001b[38;5;241m*\u001b[39m np\u001b[38;5;241m.\u001b[39msin(delta) \u001b[38;5;241m*\u001b[39m np\u001b[38;5;241m.\u001b[39mcos(delta)\n\u001b[1;32m---> 32\u001b[0m      \u001b[38;5;241m+\u001b[39m (m1 \u001b[38;5;241m+\u001b[39m m2) \u001b[38;5;241m*\u001b[39m g \u001b[38;5;241m*\u001b[39m np\u001b[38;5;241m.\u001b[39msin(theta1) \u001b[38;5;241m*\u001b[39m \u001b[43mnp\u001b[49m\u001b[38;5;241;43m.\u001b[39;49m\u001b[43mcos\u001b[49m\u001b[43m(\u001b[49m\u001b[43mdelta\u001b[49m\u001b[43m)\u001b[49m\n\u001b[0;32m     33\u001b[0m      \u001b[38;5;241m-\u001b[39m (m1 \u001b[38;5;241m+\u001b[39m m2) \u001b[38;5;241m*\u001b[39m L1 \u001b[38;5;241m*\u001b[39m z1 \u001b[38;5;241m*\u001b[39m\u001b[38;5;241m*\u001b[39m \u001b[38;5;241m2\u001b[39m \u001b[38;5;241m*\u001b[39m np\u001b[38;5;241m.\u001b[39msin(delta)\n\u001b[0;32m     34\u001b[0m      \u001b[38;5;241m-\u001b[39m (m1 \u001b[38;5;241m+\u001b[39m m2) \u001b[38;5;241m*\u001b[39m g \u001b[38;5;241m*\u001b[39m np\u001b[38;5;241m.\u001b[39msin(theta2))\n\u001b[0;32m     35\u001b[0m     \u001b[38;5;241m/\u001b[39m denominator2\n\u001b[0;32m     36\u001b[0m )\n\u001b[0;32m     38\u001b[0m \u001b[38;5;28;01mreturn\u001b[39;00m np\u001b[38;5;241m.\u001b[39mcolumn_stack([dtheta1_dt, dz1_dt, dtheta2_dt, dz2_dt])\n",
      "File \u001b[1;32mc:\\Users\\ihg23\\AppData\\Local\\Programs\\Python\\Python310\\lib\\site-packages\\torch\\_tensor.py:1089\u001b[0m, in \u001b[0;36mTensor.__array_wrap__\u001b[1;34m(self, array)\u001b[0m\n\u001b[0;32m   1085\u001b[0m         \u001b[38;5;28;01mreturn\u001b[39;00m \u001b[38;5;28mself\u001b[39m\u001b[38;5;241m.\u001b[39mnumpy()\u001b[38;5;241m.\u001b[39mastype(dtype, copy\u001b[38;5;241m=\u001b[39m\u001b[38;5;28;01mFalse\u001b[39;00m)\n\u001b[0;32m   1087\u001b[0m \u001b[38;5;66;03m# Wrap Numpy array again in a suitable tensor when done, to support e.g.\u001b[39;00m\n\u001b[0;32m   1088\u001b[0m \u001b[38;5;66;03m# `numpy.sin(tensor) -> tensor` or `numpy.greater(tensor, 0) -> ByteTensor`\u001b[39;00m\n\u001b[1;32m-> 1089\u001b[0m \u001b[38;5;28;01mdef\u001b[39;00m \u001b[38;5;21m__array_wrap__\u001b[39m(\u001b[38;5;28mself\u001b[39m, array):\n\u001b[0;32m   1090\u001b[0m     \u001b[38;5;28;01mif\u001b[39;00m has_torch_function_unary(\u001b[38;5;28mself\u001b[39m):\n\u001b[0;32m   1091\u001b[0m         \u001b[38;5;28;01mreturn\u001b[39;00m handle_torch_function(\n\u001b[0;32m   1092\u001b[0m             Tensor\u001b[38;5;241m.\u001b[39m__array_wrap__, (\u001b[38;5;28mself\u001b[39m,), \u001b[38;5;28mself\u001b[39m, array\u001b[38;5;241m=\u001b[39marray\n\u001b[0;32m   1093\u001b[0m         )\n",
      "File \u001b[1;32m_pydevd_bundle/pydevd_cython.pyx:1443\u001b[0m, in \u001b[0;36m_pydevd_bundle.pydevd_cython.SafeCallWrapper.__call__\u001b[1;34m()\u001b[0m\n",
      "File \u001b[1;32m_pydevd_bundle/pydevd_cython.pyx:1744\u001b[0m, in \u001b[0;36m_pydevd_bundle.pydevd_cython.ThreadTracer.__call__\u001b[1;34m()\u001b[0m\n",
      "File \u001b[1;32m~\\AppData\\Roaming\\Python\\Python310\\site-packages\\debugpy\\_vendored\\pydevd\\_pydev_bundle\\pydev_is_thread_alive.py:9\u001b[0m, in \u001b[0;36mis_thread_alive\u001b[1;34m(t)\u001b[0m\n\u001b[0;32m      6\u001b[0m _temp \u001b[38;5;241m=\u001b[39m threading\u001b[38;5;241m.\u001b[39mThread()\n\u001b[0;32m      7\u001b[0m \u001b[38;5;28;01mif\u001b[39;00m \u001b[38;5;28mhasattr\u001b[39m(_temp, \u001b[38;5;124m'\u001b[39m\u001b[38;5;124m_is_stopped\u001b[39m\u001b[38;5;124m'\u001b[39m):  \u001b[38;5;66;03m# Python 3.x has this\u001b[39;00m\n\u001b[1;32m----> 9\u001b[0m     \u001b[38;5;28;01mdef\u001b[39;00m \u001b[38;5;21mis_thread_alive\u001b[39m(t):\n\u001b[0;32m     10\u001b[0m         \u001b[38;5;28;01mreturn\u001b[39;00m \u001b[38;5;129;01mnot\u001b[39;00m t\u001b[38;5;241m.\u001b[39m_is_stopped\n\u001b[0;32m     12\u001b[0m \u001b[38;5;28;01melif\u001b[39;00m \u001b[38;5;28mhasattr\u001b[39m(_temp, \u001b[38;5;124m'\u001b[39m\u001b[38;5;124m_Thread__stopped\u001b[39m\u001b[38;5;124m'\u001b[39m):  \u001b[38;5;66;03m# Python 2.x has this\u001b[39;00m\n",
      "\u001b[1;31mKeyboardInterrupt\u001b[0m: "
     ]
    }
   ],
   "source": [
    "timestep = 1/200\n",
    "pinn = FeedForward()\n",
    "optimizer = torch.optim.Adam(pinn.parameters(), lr=1e-4)\n",
    "lamb = 0.5 #Test different values for this?\n",
    "criterion = PINNLoss(timestep, lamb=lamb)\n",
    "num_epochs = 50000\n",
    "val_every = 2500\n",
    "save_every = 10000\n",
    "train_losses = []\n",
    "val_losses = []\n",
    "epoch_size = int(2**15)\n",
    "val_set_size = int(2**13)\n",
    "for i in tqdm(range(num_epochs)):\n",
    "    #generate some new training data\n",
    "    #Now with all-equal lengths and masses\n",
    "    X = np.empty((epoch_size,4))\n",
    "    X[:,:2] = np.random.uniform(-np.pi, np.pi, size=(epoch_size,2))\n",
    "    X[:,2:] = np.random.normal(size=(epoch_size,2))\n",
    "    X_batch = torch.tensor(X)\n",
    "    y_batch = X_batch+rk4_derivs(X_batch, derivatives, timestep)*timestep\n",
    "\n",
    "    train_losses_local = []\n",
    "    # for X_batch, y_batch in train_loader:\n",
    "    # if torch.inf in X_batch or -torch.inf in y_batch:\n",
    "    #     print('Found inf in data!')\n",
    "    #     pdb.set_trace()\n",
    "    X_batch, y_batch = X_batch.to(torch.float), y_batch.to(torch.float)\n",
    "    optimizer.zero_grad()\n",
    "    y_pred = pinn(X_batch)\n",
    "    # empirical_derivs = (output_vector - input_data) / timestep\n",
    "    # physics_loss = (derivs - derivatives(input_data))**2 #Divide by N elns?\n",
    "    # data_loss = lamb*(true_output - output_vector)**2\n",
    "    # loss = physics_loss + data_loss\n",
    "    loss = criterion(y_pred, y_batch, X_batch)\n",
    "    loss.backward()\n",
    "    train_losses_local.append(loss.item())\n",
    "    optimizer.step()\n",
    "    train_losses.append(np.mean(train_losses_local))\n",
    "\n",
    "    if (i+1) % val_every == 0:\n",
    "        X = np.empty((val_set_size,4))\n",
    "        X[:,:2] = np.random.uniform(-np.pi, np.pi, size=(val_set_size,2))\n",
    "        X[:,2:] = np.random.normal(size=(val_set_size,2))\n",
    "        X_batch = torch.tensor(X)\n",
    "        y_batch = X_batch+rk4_derivs(X_batch, derivatives, timestep)*timestep\n",
    "        pinn.eval()\n",
    "        val_losses_local = []\n",
    "        X_batch, y_batch = X_batch.to(torch.float), y_batch.to(torch.float)\n",
    "        optimizer.zero_grad()\n",
    "        y_pred = pinn(X_batch)\n",
    "        loss = criterion(y_pred, y_batch, X_batch)\n",
    "        val_losses_local.append(loss.item())\n",
    "        val_losses.append(np.mean(val_losses_local))\n",
    "        pinn.train()\n",
    "    #pinn() is supposed to approximate, as a function, the next timestep given the state of a system, and training data with consistent timesteps\n",
    "    if not (i+1) % save_every:\n",
    "        with open(f'../models/shuffled_4dout_online_{i+1}_epochs_statedict.torch', 'wb') as file:\n",
    "            torch.save(pinn.state_dict(), file)"
   ]
  },
  {
   "cell_type": "code",
   "execution_count": 206,
   "metadata": {},
   "outputs": [
    {
     "name": "stdout",
     "output_type": "stream",
     "text": [
      "0.362272173166275\n"
     ]
    },
    {
     "data": {
      "image/png": "[encoded data removed]",
      "text/plain": [
       "<Figure size 640x480 with 1 Axes>"
      ]
     },
     "metadata": {},
     "output_type": "display_data"
    }
   ],
   "source": [
    "plt.plot(val_losses[3:])\n",
    "print(val_losses[-1])"
   ]
  },
  {
   "cell_type": "code",
   "execution_count": 209,
   "metadata": {},
   "outputs": [
    {
     "name": "stderr",
     "output_type": "stream",
     "text": [
      "100%|██████████| 50000/50000 [1:41:32<00:00,  8.21it/s]     \n"
     ]
    }
   ],
   "source": [
    "num_epochs = 50000\n",
    "save_every = 10000\n",
    "for i in tqdm(range(num_epochs)):\n",
    "    #generate some new training data\n",
    "    #Now with all-equal lengths and masses\n",
    "    X = np.empty((epoch_size,4))\n",
    "    X[:,:2] = np.random.uniform(-np.pi, np.pi, size=(epoch_size,2))\n",
    "    X[:,2:] = np.random.normal(size=(epoch_size,2))\n",
    "    X_batch = torch.tensor(X)\n",
    "    y_batch = X_batch+rk4_derivs(X_batch, derivatives, timestep)*timestep\n",
    "\n",
    "    train_losses_local = []\n",
    "    X_batch, y_batch = X_batch.to(torch.float), y_batch.to(torch.float)\n",
    "    optimizer.zero_grad()\n",
    "    y_pred = pinn(X_batch)\n",
    "\n",
    "    loss = criterion(y_pred, y_batch, X_batch)\n",
    "    loss.backward()\n",
    "    train_losses_local.append(loss.item())\n",
    "    optimizer.step()\n",
    "    train_losses.append(np.mean(train_losses_local))\n",
    "\n",
    "    if (i+1) % val_every == 0:\n",
    "        X = np.empty((val_set_size,4))\n",
    "        X[:,:2] = np.random.uniform(-np.pi, np.pi, size=(val_set_size,2))\n",
    "        X[:,2:] = np.random.normal(size=(val_set_size,2))\n",
    "        X_batch = torch.tensor(X)\n",
    "        y_batch = X_batch+rk4_derivs(X_batch, derivatives, timestep)*timestep\n",
    "        pinn.eval()\n",
    "        val_losses_local = []\n",
    "        X_batch, y_batch = X_batch.to(torch.float), y_batch.to(torch.float)\n",
    "        optimizer.zero_grad()\n",
    "        y_pred = pinn(X_batch)\n",
    "        loss = criterion(y_pred, y_batch, X_batch)\n",
    "        val_losses_local.append(loss.item())\n",
    "        val_losses.append(np.mean(val_losses_local))\n",
    "        pinn.train()\n",
    "    #pinn() is supposed to approximate, as a function, the next timestep given the state of a system, and training data with consistent timesteps\n",
    "    if not (i+1) % save_every:\n",
    "        with open(f'shuffled_4dout_online_{i+50001}_epochs_statedict.torch', 'wb') as file: #TODO TODO CHANGE THIS!\n",
    "            torch.save(pinn.state_dict(), file)"
   ]
  },
  {
   "cell_type": "code",
   "execution_count": 211,
   "metadata": {},
   "outputs": [
    {
     "name": "stdout",
     "output_type": "stream",
     "text": [
      "0.2468709945678711\n"
     ]
    },
    {
     "data": {
      "image/png": "[encoded data removed]",
      "text/plain": [
       "<Figure size 640x480 with 1 Axes>"
      ]
     },
     "metadata": {},
     "output_type": "display_data"
    }
   ],
   "source": [
    "plt.plot(val_losses)\n",
    "print(val_losses[-1])"
   ]
  },
  {
   "cell_type": "code",
   "execution_count": 9,
   "metadata": {},
   "outputs": [
    {
     "name": "stderr",
     "output_type": "stream",
     "text": [
      "100%|██████████| 310000/310000 [5:27:44<00:00, 15.76it/s]  \n"
     ]
    }
   ],
   "source": [
    "timestep = 1/200\n",
    "lamb = 0.5 #Test different values for this?\n",
    "criterion = PINNLoss(timestep, lamb=lamb)\n",
    "val_every = 2500\n",
    "train_losses = []\n",
    "val_losses = []\n",
    "epoch_size = int(2**15)\n",
    "val_set_size = int(2**13)\n",
    "pinn = FeedForward()\n",
    "pinn.load_state_dict(torch.load(f'../models/shuffled_4dout_online_100000_epochs_statedict.torch', weights_only=True))\n",
    "pinn.train()\n",
    "optimizer = torch.optim.Adam(pinn.parameters(), lr=1e-4)\n",
    "def custom_lr(epoch):\n",
    "    return 1/np.sqrt(epoch+1)\n",
    "scheduler= torch.optim.lr_scheduler.LambdaLR(optimizer, custom_lr)\n",
    "num_epochs = 310000\n",
    "save_every = 10000\n",
    "for i in tqdm(range(num_epochs)):\n",
    "    #generate some new training data\n",
    "    #Now with all-equal lengths and masses\n",
    "    X = np.empty((epoch_size,4))\n",
    "    X[:,:2] = np.random.uniform(-np.pi, np.pi, size=(epoch_size,2))\n",
    "    X[:,2] = np.random.normal(scale=14.29/3, size=epoch_size) #Chosen based on largest magnitude of velocities in a bunch of simulations\n",
    "    X[:,3] = np.random.normal(scale=18.71/3, size=epoch_size)\n",
    "    X_batch = torch.tensor(X)\n",
    "    y_batch = X_batch+rk4_derivs(X_batch, derivatives, timestep)*timestep\n",
    "\n",
    "    train_losses_local = []\n",
    "    X_batch, y_batch = X_batch.to(torch.float), y_batch.to(torch.float)\n",
    "    optimizer.zero_grad()\n",
    "    y_pred = pinn(X_batch)\n",
    "\n",
    "    loss = criterion(y_pred, y_batch, X_batch)\n",
    "    loss.backward()\n",
    "    train_losses_local.append(loss.item())\n",
    "    optimizer.step()\n",
    "    train_losses.append(np.mean(train_losses_local))\n",
    "\n",
    "    if (i+1) % val_every == 0:\n",
    "        X = np.empty((val_set_size,4))\n",
    "        X[:,:2] = np.random.uniform(-np.pi, np.pi, size=(val_set_size,2))\n",
    "        X[:,2:] = np.random.normal(size=(val_set_size,2))\n",
    "        X_batch = torch.tensor(X)\n",
    "        y_batch = X_batch+rk4_derivs(X_batch, derivatives, timestep)*timestep\n",
    "        pinn.eval()\n",
    "        val_losses_local = []\n",
    "        X_batch, y_batch = X_batch.to(torch.float), y_batch.to(torch.float)\n",
    "        optimizer.zero_grad()\n",
    "        y_pred = pinn(X_batch)\n",
    "        loss = criterion(y_pred, y_batch, X_batch)\n",
    "        val_losses_local.append(loss.item())\n",
    "        val_losses.append(np.mean(val_losses_local))\n",
    "        pinn.train()\n",
    "    #pinn() is supposed to approximate, as a function, the next timestep given the state of a system, and training data with consistent timesteps\n",
    "    if not (i+1) % save_every:\n",
    "        with open(f'../models/shuffled_4dout_online_{i+100001}_epochs_statedict.torch', 'wb') as file: #TODO TODO CHANGE THIS!\n",
    "            torch.save(pinn.state_dict(), file)\n",
    "    \n",
    "    scheduler.step()"
   ]
  },
  {
   "cell_type": "code",
   "execution_count": null,
   "metadata": {},
   "outputs": [],
   "source": []
  }
 ],
 "metadata": {
  "kernelspec": {
   "display_name": "Python 3",
   "language": "python",
   "name": "python3"
  },
  "language_info": {
   "codemirror_mode": {
    "name": "ipython",
    "version": 3
   },
   "file_extension": ".py",
   "mimetype": "text/x-python",
   "name": "python",
   "nbconvert_exporter": "python",
   "pygments_lexer": "ipython3",
   "version": "3.12.1"
  }
 },
 "nbformat": 4,
 "nbformat_minor": 2
}
