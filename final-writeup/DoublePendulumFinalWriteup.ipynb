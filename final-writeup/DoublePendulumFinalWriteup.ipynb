{
  "cells": [
    {
      "cell_type": "markdown",
      "metadata": {
        "id": "bgXEBqmzeY9H"
      },
      "source": [
        "# Deep Learning on Differential Equations: a Case Study with NODEs and the Double Pendulum"
      ]
    },
    {
      "cell_type": "markdown",
      "metadata": {
        "id": "NPEcEfZafXpb"
      },
      "source": [
        "## Introduction"
      ]
    },
    {
      "cell_type": "markdown",
      "metadata": {
        "id": "5zd-cgQQfuqn"
      },
      "source": [
        "The double pendulum is a classic ..."
      ]
    },
    {
      "cell_type": "markdown",
      "metadata": {
        "id": "-7RXrYd5fbPk"
      },
      "source": [
        "## Methods"
      ]
    },
    {
      "cell_type": "markdown",
      "metadata": {
        "id": "P5E0x5QRgDPt"
      },
      "source": [
        "We generated our data using ..."
      ]
    },
    {
      "cell_type": "markdown",
      "metadata": {
        "id": "nSej0b0RfbNN"
      },
      "source": [
        "## Results"
      ]
    },
    {
      "cell_type": "markdown",
      "metadata": {
        "id": "wYeWR4VlZauE"
      },
      "source": [
        "We found that..."
      ]
    },
    {
      "cell_type": "markdown",
      "metadata": {
        "id": "M-pxIQSafbIY"
      },
      "source": [
        "## Conclusions"
      ]
    },
    {
      "cell_type": "markdown",
      "metadata": {
        "id": "AElJVqTHZe4Y"
      },
      "source": [
        "We conclude that . . ."
      ]
    },
    {
      "cell_type": "markdown",
      "metadata": {
        "id": "ClQd2ilyfbEm"
      },
      "source": [
        "## References"
      ]
    },
    {
      "cell_type": "markdown",
      "metadata": {
        "id": "Se7raR6fZg59"
      },
      "source": []
    }
  ],
  "metadata": {
    "colab": {
      "provenance": []
    },
    "kernelspec": {
      "display_name": "Python 3",
      "name": "python3"
    },
    "language_info": {
      "name": "python"
    }
  },
  "nbformat": 4,
  "nbformat_minor": 0
}
