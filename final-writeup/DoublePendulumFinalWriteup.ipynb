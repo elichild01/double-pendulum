{
  "cells": [
    {
      "cell_type": "markdown",
      "metadata": {
        "id": "bgXEBqmzeY9H"
      },
      "source": [
        "# Deep Learning on Differential Equations: a Case Study with NODEs and the Double Pendulum"
      ]
    },
    {
      "cell_type": "markdown",
      "metadata": {
        "id": "NPEcEfZafXpb"
      },
      "source": [
        "## Introduction and Review of Literature"
      ]
    },
    {
      "cell_type": "markdown",
      "metadata": {
        "id": "5zd-cgQQfuqn"
      },
      "source": [
        "In this project, our goal was to learn how deep neural networks perform on physics-related problems when the neural network itself has physics-related concepts built into its architecture. The particular problem we used to investigate this question was prediction of the future state of a double pendulum system, as the system is governed by relatively simple ordinary differential equations (ODEs) but exhibit chaotic behavior, making the learning task nontrivial. Using a deterministic (if chaotic) system allowed us to generate effectively infinite data as we needed it; when data was required for training or validation, we simply generated random starting points and used the differential equations to generate time series beginning with those points.\n",
        "\n",
        "We focused primarily on neural ODEs (NODEs) in our experiments. NODEs are in some sense a conceptual extension of residual networks (ResNets) or recurrent neural networks (RNNs) in the sense that they represent relevant information about a time series through the use of a hidden state, which is updated as time moves forward (Chen, Rubanova, Bettencourt \\& Duvenaud). However, while ResNets and RNNs perform updates in discrete time, NODEs operate in continuous time. Effectively, an RNN or similar model is trained to approximate the function that maps from the value of the hidden state at time index $t$ to the value of the hidden state at time $t+1$. A NODE instead approximates a continuous derivative of the hidden state at any time. This allows the trained neural network to be used as the derivative function in a black-box numerical ODE solver, the result of which can be decoded into a prediction at an arbitrary future time with constant computational cost. Put another way, NODEs mimic the limit of applying RNNs to a problem as the size of the discrete timestep used by the RNNs goes to 0.\n",
        "\n",
        "NODEs can be applied to problems in physics quite naturally. Many physical problems involve differential equations, and any such problem could benefit from using a NODE. Using a NODE when a differential equation is involved is a good inductive hypothesis, as we demonstrate in the rest of this paper; however, it is worth noting that in the presence of noise, NODEs may benefit from additional structures that help mitigate the effect of noise.\n",
        "\n",
        "We also considered applying Physics-Informed Neural Networks (PINNs) to the task of predicting future states of a double pendulum system. PINNs are deep neural networks whose objective function contains a term penalizing divergence from observed training data as well as a term penalizing divergence from some amount of preexisting knowledge about the physics of the system.\n",
        "\n",
        "A wide variety of architectures and approaches fall under this umbrella. The authors who introduced the term (Raissi, Perdikaris, \\& Karniadakis) first described a method with high physics knowledge that was effectively a neural network used to solve a particular initial value problem. Other researchers applied this general method to the double pendulum problem and found that PINNs can fail to capture chaotic dynamics because they deviate slightly from given initial conditions in order to match training trajectories (Steger, Rohrhofer, \\& Geiger). On the other hand, later works took the opposite approach and set out to derive the governing equations of motion from data, such as Dufera, T. T. We were most interested in a hybrid approach such as that described by Karniadakis et al, in which models learn from both data and some pre-knowledge about system physics.\n",
        "\n",
        "The most obvious initial investigation to us was the application of a straightforward multilayer perceptron (MLP) model with a PINN loss to map between discrete time points in the state of the system. In other words, we would train a neural network to take in the positions and velocities of both pendulums and output a prediction for those values a small, constant time interval later. However, upon further reflection, we realized that in the case that training data are generated without noise, the data perfectly follow the physics, and the data loss and the physics loss are equivalent. As a result, the network would not truly be a PINN. We thus chose to focus mostly on NODEs, and use \"PINNs\" (which here are equivalent to a MLP with a data-only loss) as a control for comparison purposes."
      ]
    },
    {
      "cell_type": "code",
      "execution_count": null,
      "metadata": {
        "id": "h_jA3xpAG5w-"
      },
      "outputs": [],
      "source": [
        "from matplotlib import animation\n",
        "animation.writer = animation.writers['ffmpeg']\n",
        "from animation_generation import generate_animation_three_double_pendulum_systems\n",
        "import numpy as np\n",
        "\n",
        "# This takes ~35 seconds to run on one of the author's machines\n",
        "generate_animation_three_double_pendulum_systems(l1=1.0, l2=1.0, m1=1.0, m2=1.0, t_final=20.0,\n",
        "                        animation_name='chaos_demonstration', initial_offset=1e-6, num_tsteps=2000,\n",
        "                        theta1_init=np.pi - 1e-1, theta2_init=np.pi + 1e-1, z1_init=0.0, z2_init=0.0)"
      ]
    },
    {
      "cell_type": "markdown",
      "metadata": {
        "id": "e1WOqFQhG5w_"
      },
      "source": [
        "<video src='chaos_demonstration.mp4' controls>"
      ]
    },
    {
      "cell_type": "markdown",
      "metadata": {
        "id": "Ao7Iug1wG5w_"
      },
      "source": [
        "Figure 1. Animation of double pendulum simulated using SciPy.integrate's solve_ivp. Figure can be re-generated with different parameters if desired."
      ]
    },
    {
      "cell_type": "markdown",
      "metadata": {
        "id": "-7RXrYd5fbPk"
      },
      "source": [
        "## Methods"
      ]
    },
    {
      "cell_type": "markdown",
      "metadata": {
        "id": "P5E0x5QRgDPt"
      },
      "source": [
        "We forewent a traditional dataset in favor of online data generation to ease comparison across various tasks. We generated data using RK4 with $\\Delta t = 0.005\\mathrm{s}$ on the true derivative of the double pendulum system to create a ground-truth trajectory. When generating noisy data, we then injected noise by adding $\\boldsymbol{\\varepsilon} \\sim \\mathcal{N}(\\textbf{0}, \\sigma^2 I)$ to the trajectory.\n",
        "\n",
        "The control model was a feedforward multilayer perceptron with 3 hidden layers of dimension 30. Its training data were noiseless and all used pendula with equal masses (1kg) and equal lengths (1m); they consisted of input-output pairs of four variables each, with the angles and angular velocities of each pendulum at one point in time as input and the output being those same four variables .005s later. Angles were generated uniformly between $-\\pi$ and $\\pi$ radians, and velocities were chosen from a normal distribution centered at 0. Training was done for 450,000 epochs, each of which consisted of $2^{15}$ training pairs. Loss was a simple mean squared error (MSE) on vectors in $\\mathbb{R}^4$.\n",
        "\n",
        "Our NODEs were MLPs with tanh nonlinearities. The model was then run through the \\textit{odeint} function of the \\textit{torchdiffeq} package developed by the original authors of the NODE paper (Chen, Rubanova, Bettencourt \\& Duvenaud) to produce the new sequence of timesteps. Again, loss was MSE on the resulting vectors. The specifics of model size, amount of noise, trajectory length and number of training samples were varied during our ablation study, as summarized below.\n",
        "* For model size, we had 3 models with 1, 2 and 3 hidden layers. The size of the hidden layers were [32], [64, 64], and [64, 128, 64], respectively.\n",
        "* We then assigned maximum and minimum trajectory lengths and had the dataset generate trajectories of lengths uniformly sampled between them. Our trajectory lengths were then chosen to be in one of the following bins: [3, 8], [10, 15], [18, 23].\n",
        "* We added noise by adding $\\boldsymbol{\\varepsilon} \\sim \\mathcal{N}(\\textbf{0}, \\sigma^2 I)$ for $\\sigma^2\\in \\{0.05, 0.5\\}$. We also trained with no noise (denoted $\\sigma^2 = 0$ in the tables in this paper).\n",
        "* We tried training for a total of $|X| \\in \\{200, 500, 1000\\}$ trajectories."
      ]
    },
    {
      "cell_type": "markdown",
      "metadata": {
        "id": "PeW-aOJVG5xA"
      },
      "source": [
        "<div style=\"text-align: center;\">\n",
        "  <img src=\"training_loss.png\" alt=\"Figure 2. Sample training loss curve\" style=\"width:40%;\">\n",
        "  <p><b>Figure 2. Sample training loss curve</b></p>\n",
        "</div>"
      ]
    },
    {
      "cell_type": "markdown",
      "metadata": {
        "id": "H3dhd8qEG5xA"
      },
      "source": [
        "Our NODE used tanh for its nonlinearities, and layers in the middle were twice as large as layers near the edge. Our PINNs and vanilla MLPs were similar, but used ReLU for the nonlinearities. See Figure 2 above for a sample training trajectory."
      ]
    },
    {
      "cell_type": "markdown",
      "metadata": {
        "id": "nSej0b0RfbNN"
      },
      "source": [
        "## Results"
      ]
    },
    {
      "cell_type": "markdown",
      "metadata": {
        "id": "wYeWR4VlZauE"
      },
      "source": [
        "We found that . . ."
      ]
    },
    {
      "cell_type": "markdown",
      "metadata": {
        "id": "M-pxIQSafbIY"
      },
      "source": [
        "## Conclusions"
      ]
    },
    {
      "cell_type": "markdown",
      "metadata": {
        "id": "AElJVqTHZe4Y"
      },
      "source": [
        "We conclude that . . ."
      ]
    },
    {
      "cell_type": "markdown",
      "metadata": {
        "id": "ClQd2ilyfbEm"
      },
      "source": [
        "## References"
      ]
    },
    {
      "cell_type": "markdown",
      "metadata": {
        "id": "Se7raR6fZg59"
      },
      "source": [
        "We referenced . . ."
      ]
    },
    {
      "cell_type": "markdown",
      "source": [
        "## Runable Code for a NODE"
      ],
      "metadata": {
        "id": "RbjqnL7FK1lK"
      }
    },
    {
      "cell_type": "code",
      "source": [
        "!pip install torchdiffeq"
      ],
      "metadata": {
        "colab": {
          "base_uri": "https://localhost:8080/"
        },
        "collapsed": true,
        "id": "63vWZDFEG-G0",
        "outputId": "e3923788-8b28-4ac5-a04f-7362ca6ea75f"
      },
      "execution_count": 1,
      "outputs": [
        {
          "output_type": "stream",
          "name": "stdout",
          "text": [
            "Collecting torchdiffeq\n",
            "  Downloading torchdiffeq-0.2.5-py3-none-any.whl.metadata (440 bytes)\n",
            "Requirement already satisfied: torch>=1.5.0 in /usr/local/lib/python3.10/dist-packages (from torchdiffeq) (2.5.1+cu121)\n",
            "Requirement already satisfied: scipy>=1.4.0 in /usr/local/lib/python3.10/dist-packages (from torchdiffeq) (1.13.1)\n",
            "Requirement already satisfied: numpy<2.3,>=1.22.4 in /usr/local/lib/python3.10/dist-packages (from scipy>=1.4.0->torchdiffeq) (1.26.4)\n",
            "Requirement already satisfied: filelock in /usr/local/lib/python3.10/dist-packages (from torch>=1.5.0->torchdiffeq) (3.16.1)\n",
            "Requirement already satisfied: typing-extensions>=4.8.0 in /usr/local/lib/python3.10/dist-packages (from torch>=1.5.0->torchdiffeq) (4.12.2)\n",
            "Requirement already satisfied: networkx in /usr/local/lib/python3.10/dist-packages (from torch>=1.5.0->torchdiffeq) (3.4.2)\n",
            "Requirement already satisfied: jinja2 in /usr/local/lib/python3.10/dist-packages (from torch>=1.5.0->torchdiffeq) (3.1.4)\n",
            "Requirement already satisfied: fsspec in /usr/local/lib/python3.10/dist-packages (from torch>=1.5.0->torchdiffeq) (2024.10.0)\n",
            "Requirement already satisfied: sympy==1.13.1 in /usr/local/lib/python3.10/dist-packages (from torch>=1.5.0->torchdiffeq) (1.13.1)\n",
            "Requirement already satisfied: mpmath<1.4,>=1.1.0 in /usr/local/lib/python3.10/dist-packages (from sympy==1.13.1->torch>=1.5.0->torchdiffeq) (1.3.0)\n",
            "Requirement already satisfied: MarkupSafe>=2.0 in /usr/local/lib/python3.10/dist-packages (from jinja2->torch>=1.5.0->torchdiffeq) (3.0.2)\n",
            "Downloading torchdiffeq-0.2.5-py3-none-any.whl (32 kB)\n",
            "Installing collected packages: torchdiffeq\n",
            "Successfully installed torchdiffeq-0.2.5\n"
          ]
        }
      ]
    },
    {
      "cell_type": "code",
      "source": [
        "import numpy as np\n",
        "import torch\n",
        "import torch.nn as nn\n",
        "from torchdiffeq import odeint\n",
        "from torch.utils.data.dataloader import DataLoader\n",
        "import argparse\n",
        "from tqdm import tqdm\n",
        "from scipy.integrate import solve_ivp\n",
        "from torch.utils.data.dataloader import Dataset\n",
        "import matplotlib.pyplot as plt"
      ],
      "metadata": {
        "id": "-9rIwrB-HF3z"
      },
      "execution_count": 2,
      "outputs": []
    },
    {
      "cell_type": "code",
      "source": [
        "# class FeedForward(nn.Module):\n",
        "#     def __init__(self):\n",
        "#         super().__init__()\n",
        "#         self.linear1 = nn.Linear(8, 30)\n",
        "#         self.linear2 = nn.Linear(30,30)\n",
        "#         self.linear3 = nn.Linear(30,30)\n",
        "#         self.linear4 = nn.Linear(30,4)\n",
        "#         self.relu = nn.ReLU()\n",
        "#     def forward(self, x):\n",
        "#         x = self.relu(self.linear1(x))\n",
        "#         x = self.relu(self.linear2(x))\n",
        "#         x = self.relu(self.linear3(x))\n",
        "#         x = self.linear4(x)\n",
        "#         x = torch.clamp(x, -1e6, 1e6)\n",
        "#         return x\n",
        "\n",
        "\n",
        "class Pendulum_Data(Dataset):\n",
        "    def __init__(self, min_length=1, max_length=1, G=9.81, delta_t=0.005, size=2**15):\n",
        "        self.__dict__.update(locals())\n",
        "\n",
        "    @staticmethod\n",
        "    def derivatives(t, state, params, G=9.81):\n",
        "        L1, L2, m1, m2 = params\n",
        "        theta1, z1, theta2, z2 = state\n",
        "        delta = theta2 - theta1\n",
        "\n",
        "        denominator1 = (m1 + m2) * L1 - m2 * L1 * np.cos(delta) ** 2\n",
        "        denominator2 = (L2 / L1) * denominator1\n",
        "\n",
        "        dtheta1_dt = z1\n",
        "        dz1_dt = (\n",
        "                (m2 * L1 * z1 ** 2 * np.sin(delta) * np.cos(delta)\n",
        "                 + m2 * G * np.sin(theta2) * np.cos(delta)\n",
        "                 + m2 * L2 * z2 ** 2 * np.sin(delta)\n",
        "                 - (m1 + m2) * G * np.sin(theta1))\n",
        "                / denominator1\n",
        "        )\n",
        "        dtheta2_dt = z2\n",
        "        dz2_dt = (\n",
        "                (-m2 * L2 * z2 ** 2 * np.sin(delta) * np.cos(delta)\n",
        "                 + (m1 + m2) * G * np.sin(theta1) * np.cos(delta)\n",
        "                 - (m1 + m2) * L1 * z1 ** 2 * np.sin(delta)\n",
        "                 - (m1 + m2) * G * np.sin(theta2))\n",
        "                / denominator2\n",
        "        )\n",
        "\n",
        "        return np.array([dtheta1_dt, dz1_dt, dtheta2_dt, dz2_dt])\n",
        "\n",
        "    def run_simulation(self, theta1_init, theta2_init, l1, l2, m1, m2, v1, v2, t_eval):\n",
        "        state_0 = [theta1_init, v1, theta2_init, v2]\n",
        "        # Solve the system\n",
        "        params = [[l1, l2, m1, m2]]\n",
        "        solution = solve_ivp(\n",
        "            Pendulum_Data.derivatives, (0, t_eval[-1]), state_0, t_eval=t_eval, args=params,\n",
        "        )\n",
        "        # Return data as dictionary\n",
        "        return np.array(\n",
        "            [[l1] * len(t_eval), [l2] * len(t_eval), [m1] * len(t_eval), [m2] * len(t_eval), *solution.y, t_eval]).T\n",
        "\n",
        "    def __getitem__(self, i):\n",
        "        t_final = (np.random.randint(self.min_length, self.max_length + 1)+1) * self.delta_t  # the extra +1 makes it so the arange has the right number of steps\n",
        "        theta1_init, theta2_init = np.random.uniform(-np.pi, np.pi, 2)\n",
        "        l1, l2 = np.clip(np.random.normal(1, .5, 2), 0.1, 3)\n",
        "        m1, m2 = np.clip(np.random.normal(1, .5, 2), 0.1, 3)\n",
        "        v1, v2 = np.random.normal(size=2)\n",
        "        theta =  self.run_simulation(theta1_init=theta1_init, theta2_init=theta2_init, l1=l1, l2=l2, m1=m1, m2=m2, v1=v1,\n",
        "                                   v2=v2, t_eval=np.arange(0, t_final, self.delta_t))\n",
        "        return theta[:-1], theta[1:]\n",
        "\n",
        "    def __len__(self):\n",
        "        return self.size"
      ],
      "metadata": {
        "id": "fItdGHluHKCH"
      },
      "execution_count": 3,
      "outputs": []
    },
    {
      "cell_type": "code",
      "source": [
        "class ODEFunc(nn.Module):\n",
        "    def __init__(self, dims):\n",
        "        super(ODEFunc, self).__init__()\n",
        "        self.num_calls = 0\n",
        "        self.net = nn.Sequential(\n",
        "            nn.Linear(5, dims[0]),  # state: (theta1, w1, theta2, w2, t)\n",
        "            nn.Tanh(),\n",
        "        )\n",
        "        if len(dims) > 1:\n",
        "            for i in range(1,len(dims)):\n",
        "                self.net.append(nn.Linear(dims[i-1], dims[i]))\n",
        "                self.net.append(nn.Tanh())\n",
        "        self.net.append(nn.Linear(dims[-1], 5))\n",
        "\n",
        "    def forward(self, t, y):\n",
        "        # y has shape (batch_size, 4)\n",
        "        self.num_calls += 1\n",
        "        return self.net(y)"
      ],
      "metadata": {
        "id": "dKzG3-zHHM8O"
      },
      "execution_count": 4,
      "outputs": []
    },
    {
      "cell_type": "code",
      "source": [
        "def one_step_error(y, y_hat, lambda_=0):\n",
        "    \"\"\"\n",
        "    Returns L(t-1) = ||theta(t) - theta_hat(t)|| + lambda_ ||theta'(t) - theta_hat'(t)||\n",
        "    Agrees with (3.13) when lambda_=1.  Note the shift in index.\n",
        "\n",
        "    y : True values of theta (first two columns) and theta' (last two columns)\n",
        "    y_hat : predicted values of y\n",
        "    lambda : regularization parameter\n",
        "    \"\"\"\n",
        "    theta, theta_hat = y[:, :2], y_hat[:, :2]\n",
        "    theta_prime, theta_prime_hat = y[:, 2:-1], y_hat[:, 2:-1]\n",
        "\n",
        "    return (np.linalg.norm(theta - theta_hat, axis=1) +\n",
        "            lambda_ * np.linalg.norm(theta_prime - theta_prime_hat, axis=1))\n",
        "\n",
        "def time_to_divergence(y, y_hat, lambda_=0, tol=1e-1):\n",
        "    \"\"\"\n",
        "    Returns min {t : (||theta(t) - theta_hat(t)|| + lambda_ ||theta'(t) - theta_hat'(t)||) >= tol}\n",
        "\n",
        "    y : True values of theta (first two columns) and theta' (last two columns)\n",
        "    y_hat : predicted values of y\n",
        "    t_idx : The index such that y[t_idx] = y(T)\n",
        "    lambda : regularization parameter\n",
        "    tol : maximum error\n",
        "    \"\"\"\n",
        "    idx = np.where(one_step_error(y, y_hat, lambda_) >= tol)\n",
        "    return np.min(idx[0]) if len(idx[0]) != 0 else len(y_hat)\n",
        "\n",
        "def global_error(t_idx, y, y_hat, lambda_=0):\n",
        "    \"\"\"\n",
        "    Returns max_{t<T} (||theta(t) - theta_hat(t)|| + lambda_ ||theta'(t) - theta_hat'(t)||)\n",
        "    Agrees with spherical error (3.11) when lambda_=1 and t_idx is as large as possible\n",
        "\n",
        "    y : True values of theta (first two columns) and theta' (last two columns)\n",
        "    y_hat : predicted values of y\n",
        "    t_idx : The index such that y[t_idx] = y(T)\n",
        "    lambda : regularization parameter\n",
        "    \"\"\"\n",
        "    return max(one_step_error(y, y_hat, lambda_)[:t_idx])"
      ],
      "metadata": {
        "id": "mTfLFaA2Hjel"
      },
      "execution_count": 5,
      "outputs": []
    },
    {
      "cell_type": "code",
      "source": [
        "def train_model(num_epochs, dims, std_dev, min_steps):\n",
        "    max_steps = min_steps + 5\n",
        "    G = 9.81\n",
        "    delta_t = 0.005\n",
        "    lr = 1e-3\n",
        "    weight_decay = 1e-4\n",
        "    batch_size = 1\n",
        "    lam = 0.5\n",
        "    save_every = 100\n",
        "    val_every = 25\n",
        "    val_size = 100\n",
        "\n",
        "    # Set model, optimizer and loss\n",
        "    device = 'cuda' if torch.cuda.is_available() else 'cpu'\n",
        "    model = ODEFunc(dims)\n",
        "    criterion = nn.MSELoss()\n",
        "    model = model.to(device=device)\n",
        "    optimizer = torch.optim.Adam(model.parameters(), lr=lr, weight_decay=weight_decay)\n",
        "    losses = []\n",
        "\n",
        "    # Training\n",
        "    data = Pendulum_Data(min_steps, max_steps, G, delta_t, batch_size)\n",
        "    dl = DataLoader(data, batch_size=batch_size)\n",
        "    train_losses = []\n",
        "    val_losses = []\n",
        "\n",
        "    for i in tqdm(range(num_epochs)):\n",
        "        train_losses_local = []\n",
        "        # each batch is as long as the dataset, so an epoch is one batch\n",
        "        for X_batch, y_batch in dl:\n",
        "            X_batch += np.random.normal(0, std_dev, X_batch.shape)\n",
        "            X_batch, y_batch = X_batch.to(torch.float), y_batch.to(torch.float)\n",
        "            optimizer.zero_grad()\n",
        "\n",
        "            # get prediction and make a tuple to pass to the loss\n",
        "            y_pred = odeint(model, X_batch[:, :, 4:], delta_t * torch.arange(len(X_batch)+1))[1:]\n",
        "            y_batch = y_batch[:, :, 4:]  # remove mass/length information from outputs\n",
        "            loss_args = (y_pred.squeeze(), y_batch.squeeze())\n",
        "\n",
        "            # calculate loss and backprop\n",
        "            loss = criterion(*loss_args)\n",
        "            loss.backward()\n",
        "            train_losses_local.append(loss.item())\n",
        "            optimizer.step()\n",
        "        train_losses.append(np.mean(train_losses_local))\n",
        "\n",
        "        if (i + 1) % val_every == 0:\n",
        "            model.eval()\n",
        "            val_losses_local = []\n",
        "\n",
        "            # run val_size batches to test validation error\n",
        "            for j in range(val_size):\n",
        "                for X_batch, y_batch in dl:\n",
        "                    X_batch += np.random.normal(0, std_dev, X_batch.shape)\n",
        "                    X_batch, y_batch = X_batch.to(torch.float), y_batch.to(torch.float)\n",
        "                    optimizer.zero_grad()\n",
        "\n",
        "                    # get prediction\n",
        "                    y_pred = None\n",
        "                    loss_args = None\n",
        "                    y_pred = odeint(model, X_batch[:, :, 4:], delta_t * torch.arange(len(X_batch) + 1))[1:]\n",
        "                    y_batch = y_batch[:, :, 4:]  # remove mass/length information from outputs\n",
        "                    loss_args = (y_pred.squeeze(), y_batch.squeeze())\n",
        "\n",
        "                    # calculate loss, then average\n",
        "                    loss = criterion(*loss_args)\n",
        "                    val_losses_local.append(loss.item())\n",
        "            val_losses.append(np.mean(val_losses_local))\n",
        "            model.train()\n",
        "\n",
        "    return model, train_losses, val_losses"
      ],
      "metadata": {
        "id": "CT5INuaoHr1d"
      },
      "execution_count": 6,
      "outputs": []
    },
    {
      "cell_type": "code",
      "source": [
        "num_epochs = 1000\n",
        "dims = [64,128,64]\n",
        "std_dev = 0.05\n",
        "min_steps = 18\n",
        "\n",
        "model, train_losses, val_losses = train_model(num_epochs, dims, std_dev, min_steps)\n",
        "data = Pendulum_Data(min_steps, min_steps+5, 9.81, 0.005, 1)\n",
        "dl = DataLoader(data, batch_size=1, shuffle=False)"
      ],
      "metadata": {
        "colab": {
          "base_uri": "https://localhost:8080/"
        },
        "id": "5sI1yBiyIEqu",
        "outputId": "eefa435b-89d4-4faf-f6e6-881bb973401e"
      },
      "execution_count": 8,
      "outputs": [
        {
          "output_type": "stream",
          "name": "stderr",
          "text": [
            "100%|██████████| 1000/1000 [00:58<00:00, 17.18it/s]\n"
          ]
        }
      ]
    },
    {
      "cell_type": "code",
      "source": [
        "for  X_batch, y_batch in dl:\n",
        "    X_batch += np.random.normal(0, std_dev, X_batch.shape)\n",
        "    X_batch, y_batch = X_batch.to(torch.float), y_batch.to(torch.float)\n",
        "    y_pred = odeint(model, X_batch[:, :, 4:], 0.005 * torch.arange(len(X_batch)+1))[1:]\n",
        "    y_batch = y_batch[:, :, 4:]\n",
        "\n",
        "ttd = time_to_divergence(y_batch.detach().numpy().squeeze(), y_pred.detach().numpy().squeeze(), lambda_=1)\n",
        "ge = global_error(len(X_batch)+1, y_batch.detach().numpy().squeeze(), y_pred.detach().numpy().squeeze(), lambda_=1)\n",
        "ose = one_step_error(y_pred.squeeze().detach().numpy(), y_batch.squeeze().detach().numpy(), 1)\n",
        "\n",
        "print(\"Time to Divergence:\", ttd)\n",
        "print(\"Global Error\", ge, \"\\n\")\n",
        "\n",
        "plt.figure(figsize=(9, 3))\n",
        "plt.subplot(131)\n",
        "plt.plot(train_losses)\n",
        "plt.title(\"Training Loss\")\n",
        "\n",
        "plt.subplot(132)\n",
        "plt.plot(val_losses)\n",
        "plt.title(\"Validation Loss\")\n",
        "\n",
        "plt.subplot(133)\n",
        "plt.plot(ose)\n",
        "plt.title(\"One Step Error\")\n",
        "\n",
        "plt.tight_layout()\n",
        "plt.show()"
      ],
      "metadata": {
        "colab": {
          "base_uri": "https://localhost:8080/",
          "height": 359
        },
        "id": "325_JytVLd9_",
        "outputId": "a95c8c09-5535-4cd0-afd3-38a50a4b61e0"
      },
      "execution_count": 12,
      "outputs": [
        {
          "output_type": "stream",
          "name": "stdout",
          "text": [
            "Time to Divergence: 0\n",
            "Global Error 0.16343695 \n",
            "\n"
          ]
        },
        {
          "output_type": "display_data",
          "data": {
            "text/plain": [
              "<Figure size 900x300 with 3 Axes>"
            ],
            "image/png": "[encoded data removed]"
          },
          "metadata": {}
        }
      ]
    }
  ],
  "metadata": {
    "colab": {
      "provenance": []
    },
    "kernelspec": {
      "display_name": "Python 3",
      "name": "python3"
    },
    "language_info": {
      "codemirror_mode": {
        "name": "ipython",
        "version": 3
      },
      "file_extension": ".py",
      "mimetype": "text/x-python",
      "name": "python",
      "nbconvert_exporter": "python",
      "pygments_lexer": "ipython3",
      "version": "3.12.1"
    }
  },
  "nbformat": 4,
  "nbformat_minor": 0
}